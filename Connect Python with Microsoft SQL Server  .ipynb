{
 "cells": [
  {
   "cell_type": "markdown",
   "id": "22a90c03",
   "metadata": {},
   "source": [
    "#### Write a Python code snippet to establish a connection with a Microsoft SQL Server database. Include the necessary steps and import statements."
   ]
  },
  {
   "cell_type": "code",
   "execution_count": 1,
   "id": "2e88048c",
   "metadata": {},
   "outputs": [
    {
     "name": "stdout",
     "output_type": "stream",
     "text": [
      "Requirement already satisfied: pyodbc in c:\\users\\hp\\anaconda3\\lib\\site-packages (4.0.34)Note: you may need to restart the kernel to use updated packages.\n",
      "\n"
     ]
    }
   ],
   "source": [
    "pip install pyodbc"
   ]
  },
  {
   "cell_type": "code",
   "execution_count": 2,
   "id": "03945e48",
   "metadata": {},
   "outputs": [
    {
     "name": "stdout",
     "output_type": "stream",
     "text": [
      "('BIOL1000', 'Intro. To Biology', Decimal('3'), Decimal('5'), 'BIOL')\n",
      "('CHEM2000', 'Advanced Chemistry', Decimal('2'), Decimal('2'), 'CHEM')\n",
      "('COMP4201', 'Database1', Decimal('3'), Decimal('1'), 'COMP')\n",
      "('COMP4202', 'Database2', Decimal('3'), Decimal('2'), 'COMP')\n"
     ]
    }
   ],
   "source": [
    "import pyodbc\n",
    "conn = pyodbc.connect('Driver={SQL Server};'\n",
    "                      'Server=DESKTOP-V1DB8SF\\MSSQLS;'\n",
    "                      'Database=TMS;'\n",
    "                      'Trusted_Connection=yes;')\n",
    "cursor = conn.cursor()\n",
    "cursor.execute('SELECT * FROM course')\n",
    "for i in cursor:\n",
    "    print(i)\n"
   ]
  },
  {
   "cell_type": "markdown",
   "id": "5ca3ad10",
   "metadata": {},
   "source": [
    "#### Explain the process of creating a new database in Microsoft SQL Server using Python. Provide a code example that demonstrates the creation of a database with specific parameters. "
   ]
  },
  {
   "cell_type": "code",
   "execution_count": 3,
   "id": "a6698ff8",
   "metadata": {
    "scrolled": false
   },
   "outputs": [
    {
     "data": {
      "text/plain": [
       "<pyodbc.Cursor at 0x1c7d2041fb0>"
      ]
     },
     "execution_count": 3,
     "metadata": {},
     "output_type": "execute_result"
    }
   ],
   "source": [
    "import pyodbc\n",
    "server='DESKTOP-V1DB8SF\\MSSQLS'\n",
    "database='TMS'\n",
    "cnn = pyodbc.connect('DRIVER={ODBC Driver 17 for SQL Server};'\n",
    "                      'SERVER=' + server + ';'\n",
    "                      'DATABASE=' + database + ';'\n",
    "                      'Trusted_Connection=yes')\n",
    "cnn.autocommit = True  \n",
    "cursor = cnn.cursor()\n",
    "cursor.execute(\"CREATE DATABASE MyDatabase\")\n"
   ]
  },
  {
   "cell_type": "markdown",
   "id": "d2c93923",
   "metadata": {},
   "source": [
    "#### Write a Python function that takes input parameters and inserts data into a specific table in the SQL Server database. Include error handling and parameterized queries in your code."
   ]
  },
  {
   "cell_type": "code",
   "execution_count": 4,
   "id": "c4a853cf",
   "metadata": {},
   "outputs": [
    {
     "name": "stdout",
     "output_type": "stream",
     "text": [
      "Table 'products' created successfully.\n",
      "Data inserted into the 'products' table successfully.\n",
      "(1, 'Desktop Computer', 800)\n",
      "(2, 'Laptop', 1200)\n",
      "(3, 'Tablet', 200)\n",
      "(4, 'Monitor', 350)\n",
      "(5, 'Printer', 150)\n",
      "Connection closed.\n"
     ]
    }
   ],
   "source": [
    "import pyodbc\n",
    "try:\n",
    "    # Establishing the connection\n",
    "    conn = pyodbc.connect('Driver={SQL Server};'\n",
    "                          'Server=DESKTOP-V1DB8SF\\MSSQLS;'\n",
    "                          'Database=MyDatabase;'\n",
    "                          'Trusted_Connection=yes;')\n",
    "    cursor = conn.cursor()\n",
    "\n",
    "    # Creating the table\n",
    "    create_table_query = '''\n",
    "        CREATE TABLE products (\n",
    "            product_id int primary key,\n",
    "            product_name nvarchar(50),\n",
    "            price int\n",
    "        )\n",
    "    '''\n",
    "    cursor.execute(create_table_query)\n",
    "    conn.commit()\n",
    "    print(\"Table 'products' created successfully.\")\n",
    "\n",
    "    # Inserting data into the table using parameterized queries\n",
    "    insert_query = '''\n",
    "        INSERT INTO products (product_id, product_name, price)\n",
    "        VALUES (?, ?, ?)\n",
    "    '''\n",
    "    product_data = [\n",
    "        (1, 'Desktop Computer', 800),\n",
    "        (2, 'Laptop', 1200),\n",
    "        (3, 'Tablet', 200),\n",
    "        (4, 'Monitor', 350),\n",
    "        (5, 'Printer', 150)\n",
    "    ]\n",
    "    cursor.executemany(insert_query, product_data)\n",
    "    conn.commit()\n",
    "    print(\"Data inserted into the 'products' table successfully.\")\n",
    "\n",
    "    # Fetching data from the table\n",
    "    select_query = \"SELECT * FROM dbo.products\"\n",
    "    cursor.execute(select_query)\n",
    "    rows = cursor.fetchall()\n",
    "    for row in rows:\n",
    "        print(row)\n",
    "\n",
    "except pyodbc.Error as e:\n",
    "    print(\"An error occurred:\", e)\n",
    "\n",
    "finally:\n",
    "    # Closing the connection\n",
    "    if conn:\n",
    "        conn.close()\n",
    "        print(\"Connection closed.\")\n"
   ]
  },
  {
   "cell_type": "markdown",
   "id": "a8060f30",
   "metadata": {},
   "source": [
    "#### Create a SQL query using Python to retrieve all records from a specific table in the database. Write the Python code to execute the query and print the fetched data."
   ]
  },
  {
   "cell_type": "code",
   "execution_count": 5,
   "id": "72d2b4d8",
   "metadata": {},
   "outputs": [
    {
     "name": "stdout",
     "output_type": "stream",
     "text": [
      "(1, 'Desktop Computer', 800)\n",
      "(2, 'Laptop', 1200)\n",
      "(3, 'Tablet', 200)\n",
      "(4, 'Monitor', 350)\n",
      "(5, 'Printer', 150)\n"
     ]
    }
   ],
   "source": [
    "import pyodbc \n",
    "conn = pyodbc.connect('Driver={SQL Server};'\n",
    "                      'Server=DESKTOP-V1DB8SF\\MSSQLS;'\n",
    "                      'Database=MyDatabase;'\n",
    "                      'Trusted_Connection=yes;')\n",
    "mycursor = conn.cursor()\n",
    "mycursor.execute(\"SELECT * FROM products\")\n",
    "myresult = mycursor.fetchall()\n",
    "for x in myresult:\n",
    "  print(x)\n"
   ]
  },
  {
   "cell_type": "markdown",
   "id": "6decbd55",
   "metadata": {},
   "source": [
    "#### . Implement a Python function that calculates the average value of a specific column in a table using data retrieved from the SQL Server database. Include error handling and appropriate data type conversion in your code."
   ]
  },
  {
   "cell_type": "code",
   "execution_count": 8,
   "id": "a832ba48",
   "metadata": {},
   "outputs": [
    {
     "name": "stdout",
     "output_type": "stream",
     "text": [
      "540\n",
      "Connection closed.\n"
     ]
    }
   ],
   "source": [
    "import pyodbc\n",
    "try:\n",
    "    # Establishing the connection\n",
    "    conn = pyodbc.connect('Driver={SQL Server};'\n",
    "                          'Server=DESKTOP-V1DB8SF\\MSSQLS;'\n",
    "                          'Database=MyDatabase;'\n",
    "                          'Trusted_Connection=yes;')\n",
    "    cursor = conn.cursor()\n",
    "    # Fetching data from the table\n",
    "    select_query =(\"SELECT AVG(price) AS [Avg_price] FROM products\")\n",
    "    cursor.execute(select_query)\n",
    "    rows = cursor.fetchall()\n",
    "    #for row in rows:\n",
    "    # print(\"The average is\",row)\n",
    "    print (rows[0][0])\n",
    "except pyodbc.Error as e:\n",
    "    print(\"An error occurred:\", e)\n",
    "finally:\n",
    "    if conn:\n",
    "        conn.close()\n",
    "        print(\"Connection closed.\")\n"
   ]
  },
  {
   "cell_type": "markdown",
   "id": "e036d182",
   "metadata": {},
   "source": [
    "#### Write a Python script that connects to the SQL Server database, selects a subset of records based on specific criteria, and performs statistical calculations such as calculating the mean and standard deviation of a numeric column. Print the calculated statistics as output."
   ]
  },
  {
   "cell_type": "code",
   "execution_count": 9,
   "id": "07cee5c0",
   "metadata": {},
   "outputs": [
    {
     "name": "stdout",
     "output_type": "stream",
     "text": [
      "mean: 800\n",
      "Standard deviation: 449.16589362951413\n",
      "Connection closed.\n"
     ]
    }
   ],
   "source": [
    "import pyodbc\n",
    "import statistics\n",
    "\n",
    "try:\n",
    "    # Establishing the connection\n",
    "    conn = pyodbc.connect('Driver={SQL Server};'\n",
    "                          'Server=DESKTOP-V1DB8SF\\MSSQLS;'\n",
    "                          'Database=MyDatabase;'\n",
    "                          'Trusted_Connection=yes;')\n",
    "\n",
    "    cursor = conn.cursor()\n",
    "\n",
    "    # Fetching data from the table\n",
    "    select_query =(\"SELECT (price) AS [mean_price] FROM products\")\n",
    "    cursor.execute(select_query)\n",
    "    rows = cursor.fetchall()\n",
    "    \n",
    "    mean = statistics.mean([rows[0] for rows in rows])\n",
    "    print (\"mean:\",rows[0][0])\n",
    "    \n",
    "        # Fetching data from the table\n",
    "    select_query =(\"SELECT (price) AS [stdev_price] FROM products\")\n",
    "    cursor.execute(select_query)\n",
    "    rows = cursor.fetchall()\n",
    "    \n",
    "    std_dev = statistics.stdev([rows[0] for rows in rows])\n",
    "    print(\"Standard deviation:\", std_dev)\n",
    "\n",
    "except pyodbc.Error as e:\n",
    "    print(\"An error occurred:\", e)\n",
    "\n",
    "finally:\n",
    "    if conn:\n",
    "        conn.close()\n",
    "        print(\"Connection closed.\")\n"
   ]
  },
  {
   "cell_type": "code",
   "execution_count": null,
   "id": "a1419120",
   "metadata": {},
   "outputs": [],
   "source": []
  }
 ],
 "metadata": {
  "kernelspec": {
   "display_name": "Python 3 (ipykernel)",
   "language": "python",
   "name": "python3"
  },
  "language_info": {
   "codemirror_mode": {
    "name": "ipython",
    "version": 3
   },
   "file_extension": ".py",
   "mimetype": "text/x-python",
   "name": "python",
   "nbconvert_exporter": "python",
   "pygments_lexer": "ipython3",
   "version": "3.10.9"
  }
 },
 "nbformat": 4,
 "nbformat_minor": 5
}
